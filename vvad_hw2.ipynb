{
 "cells": [
  {
   "cell_type": "markdown",
   "metadata": {},
   "source": [
    "# <a href=\"https://thetahat.ru/courses/ad\">Введение в анализ данных</a>\n",
    "## Домашнее задание 2. Простой анализ данных и ИИ-инструменты.\n"
   ]
  },
  {
   "cell_type": "markdown",
   "metadata": {},
   "source": [
    "**Правила, <font color=\"red\">прочитайте внимательно</font>:**\n",
    "\n",
    "* Выполненную работу нужно отправить телеграм-боту `@thetahat_ds25_bot`. Для начала работы с ботом каждый раз отправляйте `/start`. Дождитесь подтверждения от бота, что он принял файл. Если подтверждения нет, то что-то не так. **Работы, присланные иным способом, не принимаются.**\n",
    "* Дедлайн см. в боте. После дедлайна работы не принимаются кроме случаев наличия уважительной причины.\n",
    "* Прислать нужно **ноутбук в формате `ipynb`**. Если вы строите интерактивные графики, их стоит прислать в формате html.\n",
    "* Следите за размером файлов. **Бот не может принимать файлы весом более 20 Мб.** Если файл получается больше, заранее разделите его на несколько.\n",
    "* Выполнять задание необходимо полностью самостоятельно. **При обнаружении списывания всем участникам списывания дается штраф -2 балла к итоговой оценке за семестр.**\n",
    "* Решения, размещенные на каких-либо интернет-ресурсах, не принимаются. Кроме того, публикация решения в открытом доступе может быть приравнена к предоставлении возможности списать.\n",
    "* Обратите внимание на <a href=\"https://thetahat.ru/courses/ai-rules\"><b>правила использования ИИ-инструментов</b></a> при решении домашнего задания.\n",
    "* **Код из рассказанных на занятиях ноутбуков** можно использовать без ограничений.\n",
    "* Для выполнения задания используйте этот ноутбук в качестве основы, ничего не удаляя из него. Можно добавлять необходимое количество ячеек.\n",
    "* Комментарии к решению пишите в markdown-ячейках.\n",
    "* Выполнение задания (ход решения, выводы и пр.) должно быть осуществлено на русском языке.\n",
    "* Решение проверяется системой ИИ-проверки <a href=\"https://thetahat.ru/\"><img src=\"https://miptstats.github.io/theta_grader_small.png\" style=\"display: inline; vertical-align: middle;\"></a> **ThetaGrader**. Результат проверки валидируется и исправляется человеком, после чего комментарии отправляются студентам.\n",
    "* Если код будет не понятен проверяющему, оценка может быть снижена.\n",
    "* Никакой код из данного задания при проверке запускаться не будет. *Если код студента не выполнен, недописан и т.д., то он не оценивается.*\n",
    "\n",
    "<b><font size=\"5\" color=\"red\">Важно!!! Правила заполнения ноутбука:</font></b>\n",
    "* Запрещается удалять имеющиеся в ноутбуке ячейки, менять местами положения задач.\n",
    "* Сохраняйте естественный линейный порядок повествования в ноутбуке сверху-вниз.\n",
    "* Отвечайте на вопросы, а также добавляйте новые ячейки в предложенных местах, которые обозначены `<...>`.\n",
    "* В markdown-ячейка, содержащих описание задачи, находятся специальные отметки, которые <font color=\"red\"><b>запрещается модифицировать</b></font>.\n",
    "* При нарушении данных правил работа может получить 0 баллов.\n",
    "\n",
    "\n",
    "**Перед выполнением задания посмотрите презентацию по выполнению и оформлению домашних заданий с занятия 2.**\n",
    "\n",
    "\n",
    "**Баллы за задание:**\n",
    "\n",
    "<b><font color=\"blue\">Легкая часть</font></b> (достаточно на \"хор\"):\n",
    "* Задача 1 &mdash; 5 баллов\n",
    "* Задача 2 &mdash; 25 баллов\n",
    "\n",
    "<b><font color=\"orange\">Сложная часть</font></b> (необходимо на \"отл\"):\n",
    "* Задача 3 &mdash; 80 баллов\n",
    "* Задача 4 &mdash; 50 баллов\n",
    "\n",
    "Баллы учитываются в <b>обязательной части</b> курса и не влияют на оценку по факультативной части.\n"
   ]
  },
  {
   "cell_type": "code",
   "execution_count": null,
   "metadata": {},
   "outputs": [],
   "source": [
    "# Bot check\n",
    "\n",
    "# HW_ID: fpmi_ad2\n",
    "# Бот проверит этот ID и предупредит, если случайно сдать что-то не то\n",
    "\n",
    "# Status: final\n",
    "# Перед отправкой в финальном решении удали \"not\" в строчке выше\n",
    "# Так бот проверит, что ты отправляешь финальную версию, а не промежуточную"
   ]
  },
  {
   "cell_type": "code",
   "execution_count": 1,
   "metadata": {},
   "outputs": [
    {
     "name": "stdout",
     "output_type": "stream",
     "text": [
      "Defaulting to user installation because normal site-packages is not writeable\n",
      "Requirement already satisfied: seaborn in /home/gavnodav/.local/lib/python3.12/site-packages (0.13.2)\n",
      "Requirement already satisfied: numpy!=1.24.0,>=1.20 in /home/gavnodav/.local/lib/python3.12/site-packages (from seaborn) (1.26.2)\n",
      "Requirement already satisfied: pandas>=1.2 in /home/gavnodav/.local/lib/python3.12/site-packages (from seaborn) (2.1.4)\n",
      "Requirement already satisfied: matplotlib!=3.6.1,>=3.4 in /usr/lib64/python3.12/site-packages (from seaborn) (3.8.4)\n",
      "Requirement already satisfied: contourpy>=1.0.1 in /usr/lib64/python3.12/site-packages (from matplotlib!=3.6.1,>=3.4->seaborn) (1.2.0)\n",
      "Requirement already satisfied: cycler>=0.10 in /usr/lib/python3.12/site-packages (from matplotlib!=3.6.1,>=3.4->seaborn) (0.11.0)\n",
      "Requirement already satisfied: fonttools>=4.22.0 in /usr/lib64/python3.12/site-packages (from matplotlib!=3.6.1,>=3.4->seaborn) (4.43.1)\n",
      "Requirement already satisfied: kiwisolver>=1.3.1 in /usr/lib64/python3.12/site-packages (from matplotlib!=3.6.1,>=3.4->seaborn) (1.4.7)\n",
      "Requirement already satisfied: packaging>=20.0 in /usr/lib/python3.12/site-packages (from matplotlib!=3.6.1,>=3.4->seaborn) (23.1)\n",
      "Requirement already satisfied: pillow>=8 in /usr/lib64/python3.12/site-packages (from matplotlib!=3.6.1,>=3.4->seaborn) (10.3.0)\n",
      "Requirement already satisfied: pyparsing>=2.3.1 in /usr/lib/python3.12/site-packages (from matplotlib!=3.6.1,>=3.4->seaborn) (3.0.9)\n",
      "Requirement already satisfied: python-dateutil>=2.7 in /usr/lib/python3.12/site-packages (from matplotlib!=3.6.1,>=3.4->seaborn) (2.8.2)\n",
      "Requirement already satisfied: pytz>=2020.1 in /usr/lib/python3.12/site-packages (from pandas>=1.2->seaborn) (2024.2)\n",
      "Requirement already satisfied: tzdata>=2022.1 in /home/gavnodav/.local/lib/python3.12/site-packages (from pandas>=1.2->seaborn) (2023.3)\n",
      "Requirement already satisfied: six>=1.5 in /usr/lib/python3.12/site-packages (from python-dateutil>=2.7->matplotlib!=3.6.1,>=3.4->seaborn) (1.16.0)\n",
      "Note: you may need to restart the kernel to use updated packages.\n"
     ]
    }
   ],
   "source": [
    "%pip install seaborn"
   ]
  },
  {
   "cell_type": "code",
   "execution_count": 2,
   "metadata": {},
   "outputs": [],
   "source": [
    "import numpy as np\n",
    "import pandas as pd\n",
    "import matplotlib.pyplot as plt\n",
    "import seaborn as sns\n",
    "\n",
    "sns.set(style='whitegrid', palette='Set2')"
   ]
  },
  {
   "cell_type": "markdown",
   "metadata": {},
   "source": [
    "На лекции мы рассмотрели, как можно использовать инструменты искусственного интеллекта в нашем курсе, чтобы повысить личную эффективность. В этом домашнем задании мы предлагаем вам две технические задачи, которые можно полностью доверить ИИ. Они относятся к <b><font color=\"blue\">легкой части</font></b> задания. Бывает работа, которую делать просто не хочется: она долгая, рутинная, несодержательная, не несет какой-либо интеллектуальной ценности. Такую работу по возможности стоит спихнуть искусственному интеллекту.\n",
    "\n",
    "\n",
    "Также в <b><font color=\"orange\">сложной части</font></b> вы найдёте задачу по работе с библиотеками и небольшой анализ научной статьи из списка на ваш выбор. Все эти задания можно выполнить самостоятельно, но мы рекомендуем воспользоваться помощью ИИ, чтобы облегчить процесс 😊"
   ]
  },
  {
   "cell_type": "markdown",
   "metadata": {},
   "source": [
    "---\n",
    "### <font color=\"orange\"><i>Легкая часть</i></font>"
   ]
  },
  {
   "cell_type": "markdown",
   "metadata": {
    "id": "Wn9SzJJQxEKQ"
   },
   "source": [
    "### Задача 1.\n"
   ]
  },
  {
   "cell_type": "markdown",
   "metadata": {
    "ai_eval_tool": {
     "snippet_hash": "401c68baed5870bfd4cb4374e9a69caf",
     "snippet_label": "start"
    },
    "id": "JEeY6c_VxEKS"
   },
   "source": [
    "<!-- Внимание! Здесь находится специальная отметка. Ее нельзя удалять! Ответы на вопросы / выводы для предыдущего пункта(ов) пиши в ячейках выше! -->\n",
    "<!-- 401c68baed5870bfd4cb4374e9a69caf -->\n",
    "Это задача для разминки всего на 5 баллов. Возможно, она покажется вам забавной, но это действительно так 😃\n",
    "\n",
    "Ниже представлен код на языке C++. Перепишите его на Python и запустите без ошибок. Поясните, что делает этот код?\n",
    "\n",
    "Если код не работает, обсудите проблему с моделью или используйте другую, эта задача гарантированно решается."
   ]
  },
  {
   "cell_type": "code",
   "execution_count": null,
   "metadata": {
    "id": "Hm37S7bpxEKS"
   },
   "outputs": [],
   "source": [
    "#include <iostream>\n",
    "#include <vector>\n",
    "#include <cstdlib>\n",
    "#include <ctime>\n",
    "\n",
    "#define 😃 int\n",
    "#define 🎉 void\n",
    "#define 🍎 std::vector<int>\n",
    "#define 🖨️ std::cout\n",
    "#define 🔢 rand()\n",
    "#define ⏰ time(0)\n",
    "#define 🔀 srand\n",
    "#define 🔁 for\n",
    "#define 🔄 while\n",
    "#define 🎲 if\n",
    "#define 🎈 else\n",
    "#define 🚀 return\n",
    "#define 🎯 main\n",
    "#define 🖥️ std::endl\n",
    "\n",
    "🎉 🎭(🍎& 🍏, 😃 🍌, 😃 🍍, 😃 🍇) {\n",
    "    😃 🍒 = 🍍 - 🍌 + 1;\n",
    "    😃 🍓 = 🍇 - 🍍;\n",
    "\n",
    "    🍎 🍑(🍒), 🍐(🍓);\n",
    "\n",
    "    🔁 (😃 🍔 = 0; 🍔 < 🍒; 🍔++)\n",
    "        🍑[🍔] = 🍏[🍌 + 🍔];\n",
    "    🔁 (😃 🍔 = 0; 🍔 < 🍓; 🍔++)\n",
    "        🍐[🍔] = 🍏[🍍 + 1 + 🍔];\n",
    "\n",
    "    😃 🍔 = 0, 🍕 = 0, 🍖 = 🍌;\n",
    "    🔄 (🍔 < 🍒 && 🍕 < 🍓) {\n",
    "        🎲 (🍑[🍔] <= 🍐[🍕]) {\n",
    "            🍏[🍖] = 🍑[🍔];\n",
    "            🍔++;\n",
    "        } 🎈 {\n",
    "            🍏[🍖] = 🍐[🍕];\n",
    "            🍕++;\n",
    "        }\n",
    "        🍖++;\n",
    "    }\n",
    "\n",
    "    🔄 (🍔 < 🍒) {\n",
    "        🍏[🍖] = 🍑[🍔];\n",
    "        🍔++;\n",
    "        🍖++;\n",
    "    }\n",
    "\n",
    "    🔄 (🍕 < 🍓) {\n",
    "        🍏[🍖] = 🍐[🍕];\n",
    "        🍕++;\n",
    "        🍖++;\n",
    "    }\n",
    "}\n",
    "\n",
    "🎉 🍿(🍎& 🍏, 😃 🍌, 😃 🍇) {\n",
    "    🎲 (🍌 < 🍇) {\n",
    "        😃 🍍 = 🍌 + (🍇 - 🍌) / 2;\n",
    "\n",
    "        🍿(🍏, 🍌, 🍍);\n",
    "        🍿(🍏, 🍍 + 1, 🍇);\n",
    "\n",
    "        🎭(🍏, 🍌, 🍍, 🍇);\n",
    "    }\n",
    "}\n",
    "\n",
    "🍎 🎲(😃 🎯, 😃 🎰, 😃 🎳) {\n",
    "    🍎 🎨(🎯);\n",
    "    🔁 (😃 🍔 = 0; 🍔 < 🎯; 🍔++) {\n",
    "        🎨[🍔] = 🔢 % (🎳 - 🎰 + 1) + 🎰;\n",
    "    }\n",
    "    🚀 🎨;\n",
    "}\n",
    "\n",
    "🎉 🖨️(const 🍎& 🍏) {\n",
    "    🔁 (😃 🍔 : 🍏) {\n",
    "        🖨️ << 🍔 << \" \";\n",
    "    }\n",
    "    🖨️ << 🖥️;\n",
    "}\n",
    "\n",
    "😃 🎯() {\n",
    "    🔀(⏰);\n",
    "\n",
    "    😃 🎯 = 20;\n",
    "    😃 🎰 = 0;\n",
    "    😃 🎳 = 100;\n",
    "\n",
    "    🍎 🍏 = 🎲(🎯, 🎰, 🎳);\n",
    "\n",
    "    🖨️ << \"?: \";\n",
    "    🖨️(🍏);\n",
    "\n",
    "    🍿(🍏, 0, 🍏.size() - 1);\n",
    "\n",
    "    🖨️ << \"??: \";\n",
    "    🖨️(🍏);\n",
    "\n",
    "    🚀 0;\n",
    "}"
   ]
  },
  {
   "cell_type": "code",
   "execution_count": 4,
   "metadata": {
    "id": "Su2ndaqKyzbF"
   },
   "outputs": [
    {
     "name": "stdout",
     "output_type": "stream",
     "text": [
      "Исходный массив:\n",
      "76 81 41 98 98 63 46 77 54 22 92 13 21 69 57 55 30 50 25 40\n",
      "Отсортированный массив:\n",
      "13 21 22 25 30 40 41 46 50 54 55 57 63 69 76 77 81 92 98 98\n"
     ]
    }
   ],
   "source": [
    "import random\n",
    "import time\n",
    "\n",
    "def merge(arr, left, mid, right):\n",
    "    left_size = mid - left + 1\n",
    "    right_size = right - mid\n",
    "    \n",
    "    left_arr = arr[left:left + left_size]\n",
    "    right_arr = arr[mid + 1:mid + 1 + right_size]\n",
    "    \n",
    "    i = j = 0\n",
    "    k = left\n",
    "    \n",
    "    while i < left_size and j < right_size:\n",
    "        if left_arr[i] <= right_arr[j]:\n",
    "            arr[k] = left_arr[i]\n",
    "            i += 1\n",
    "        else:\n",
    "            arr[k] = right_arr[j]\n",
    "            j += 1\n",
    "        k += 1\n",
    "    \n",
    "    while i < left_size:\n",
    "        arr[k] = left_arr[i]\n",
    "        i += 1\n",
    "        k += 1\n",
    "    \n",
    "    while j < right_size:\n",
    "        arr[k] = right_arr[j]\n",
    "        j += 1\n",
    "        k += 1\n",
    "\n",
    "def merge_sort(arr, left, right):\n",
    "    if left < right:\n",
    "        mid = left + (right - left) // 2\n",
    "        \n",
    "        merge_sort(arr, left, mid)\n",
    "        merge_sort(arr, mid + 1, right)\n",
    "        \n",
    "        merge(arr, left, mid, right)\n",
    "\n",
    "def generate_random_array(size, min_val, max_val):\n",
    "    return [random.randint(min_val, max_val) for _ in range(size)]\n",
    "\n",
    "def print_array(arr):\n",
    "    print(\" \".join(map(str, arr)))\n",
    "\n",
    "def main():\n",
    "    random.seed(time.time())\n",
    "    \n",
    "    size = 20\n",
    "    min_val = 0\n",
    "    max_val = 100\n",
    "    \n",
    "    arr = generate_random_array(size, min_val, max_val)\n",
    "    \n",
    "    print(\"Исходный массив:\")\n",
    "    print_array(arr)\n",
    "    \n",
    "    merge_sort(arr, 0, len(arr) - 1)\n",
    "    \n",
    "    print(\"Отсортированный массив:\")\n",
    "    print_array(arr)\n",
    "\n",
    "if __name__ == \"__main__\":\n",
    "    main()"
   ]
  },
  {
   "cell_type": "markdown",
   "metadata": {
    "ai_eval_tool": {
     "snippet_hash": "401c68baed5870bfd4cb4374e9a69caf",
     "snippet_label": "end"
    }
   },
   "source": [
    "**Пояснение к коду:** Код реализует сортировку слиянием:\n",
    "\n",
    "Создаёт массив из 20 случайных чисел (0–100).\n",
    "Показывает его.\n",
    "Сортирует по возрастанию с помощью алгоритма \"разделяй и властвуй\" (O(n log n)).\n",
    "Показывает отсортированный результат.\n",
    "Сортировка делит массив пополам, рекурсивно сортирует части, затем сливает их в порядке возрастания."
   ]
  },
  {
   "cell_type": "markdown",
   "metadata": {
    "ai_eval_tool": {
     "snippet_hash": "f29fb05ffea036749d60c61d0373738b",
     "snippet_label": "start"
    },
    "id": "kEb_3oJQxEKR"
   },
   "source": [
    "<!-- Внимание! Здесь находится специальная отметка. Ее нельзя удалять! Ответы на вопросы / выводы для предыдущего пункта(ов) пиши в ячейках выше! -->\n",
    "<!-- f29fb05ffea036749d60c61d0373738b -->\n",
    "---\n",
    "### Задача 2.\n",
    "\n",
    "**При использовании ИИ в этой задаче необходимо прислать файл `task_2_ai_promt.txt` с копией вашего диалога с ИИ-инструментом**\n",
    "\n",
    "В этой задаче вам предстоит поработать с библиотекой Plotly. Это полезный инструмент для создания привлекательных и удобных графиков, который вы наверняка будете использовать в своей работе. Мы рекомендуем заранее изучить его функции и возможности, чтобы вы могли уверенно использовать его в дальнейшем.\n",
    "\n",
    "Одна из главных особенностей этой библиотеки — возможность настраивать и украшать графики по своему вкусу. Именно этим мы и предлагаем вам заняться в рамках данной задачи.\n",
    "\n",
    "Ниже приведен код для построения 3D-графика функции с помощью Plotly."
   ]
  },
  {
   "cell_type": "code",
   "execution_count": 5,
   "metadata": {},
   "outputs": [
    {
     "name": "stdout",
     "output_type": "stream",
     "text": [
      "Defaulting to user installation because normal site-packages is not writeable\n",
      "Requirement already satisfied: plotly in /home/gavnodav/.local/lib/python3.12/site-packages (6.0.0)\n",
      "Requirement already satisfied: narwhals>=1.15.1 in /home/gavnodav/.local/lib/python3.12/site-packages (from plotly) (1.27.1)\n",
      "Requirement already satisfied: packaging in /usr/lib/python3.12/site-packages (from plotly) (23.1)\n",
      "Note: you may need to restart the kernel to use updated packages.\n"
     ]
    }
   ],
   "source": [
    "%pip install plotly"
   ]
  },
  {
   "cell_type": "code",
   "execution_count": null,
   "metadata": {
    "id": "XwQN5iSZxEKR"
   },
   "outputs": [],
   "source": [
    "import plotly.graph_objects as go\n",
    "\n",
    "\n",
    "def plot_3d_surface():\n",
    "    x = np.linspace(-10, 10, 200)\n",
    "    y = np.linspace(-10, 10, 200)\n",
    "    x, y = np.meshgrid(x, y)\n",
    "    z = np.cos(np.sqrt(x**2 + y**2))\n",
    "\n",
    "    fig = go.Figure(data=[go.Surface(z=z, x=x, y=y)])\n",
    "    fig.update_layout(\n",
    "        title='Cosine Function 3D Surface Plot',\n",
    "        scene=dict(\n",
    "            xaxis_title='X Axis',\n",
    "            yaxis_title='Y Axis',\n",
    "            zaxis_title='Z Axis',\n",
    "            aspectmode='cube',\n",
    "        ),\n",
    "        margin=dict(l=0, r=0, b=0, t=0)\n",
    "    )\n",
    "\n",
    "\n",
    "    fig.show()\n",
    "\n",
    "plot_3d_surface()"
   ]
  },
  {
   "cell_type": "markdown",
   "metadata": {},
   "source": [
    "Выполните следующие действия в ячейках ниже.\n",
    "\n",
    "1. Задокументируйте функцию и добавьте комментариев. Необходимо это сделать так, чтобы любой человек мог понять, какая у нее задача и что делают отдельные части кода."
   ]
  },
  {
   "cell_type": "code",
   "execution_count": null,
   "metadata": {
    "ai_eval_tool": {
     "snippet_hash": "f29fb05ffea036749d60c61d0373738b",
     "snippet_label": "end"
    },
    "id": "43qo7GOCytah"
   },
   "outputs": [],
   "source": [
    "import numpy as np  # Импортируем библиотеку NumPy для работы с массивами\n",
    "import plotly.graph_objects as go  # Импортируем модуль для построения графиков в Plotly\n",
    "\n",
    "\n",
    "def plot_3d_surface():\n",
    "    \"\"\"\n",
    "    Функция строит 3D-график поверхности функции cos(sqrt(x^2 + y^2)) \n",
    "    с помощью библиотеки Plotly.\n",
    "    \"\"\"\n",
    "\n",
    "    # Создаем массив значений x и y от -10 до 10 с 200 точками\n",
    "    x = np.linspace(-10, 10, 200)\n",
    "    y = np.linspace(-10, 10, 200)\n",
    "\n",
    "    # Создаем двумерные сетки координат x и y\n",
    "    x, y = np.meshgrid(x, y)\n",
    "\n",
    "    # Вычисляем значения z по формуле z = cos(sqrt(x^2 + y^2))\n",
    "    z = np.cos(np.sqrt(x**2 + y**2))\n",
    "\n",
    "    # Создаем 3D-график поверхности с использованием Plotly\n",
    "    fig = go.Figure(data=[go.Surface(z=z, x=x, y=y)])\n",
    "\n",
    "    # Настраиваем внешний вид графика\n",
    "    fig.update_layout(\n",
    "        title='Cosine Function 3D Surface Plot',  # Заголовок графика\n",
    "        scene=dict(\n",
    "            xaxis_title='X Axis',  # Подпись оси X\n",
    "            yaxis_title='Y Axis',  # Подпись оси Y\n",
    "            zaxis_title='Z Axis',  # Подпись оси Z\n",
    "            aspectmode='cube',  # Сохраняем пропорции осей равными\n",
    "        ),\n",
    "        margin=dict(l=0, r=0, b=0, t=0)  # Убираем отступы вокруг графика\n",
    "    )\n",
    "\n",
    "    # Отображаем график\n",
    "    fig.show()\n",
    "\n",
    "\n",
    "# Вызываем функцию для построения графика\n",
    "plot_3d_surface()\n"
   ]
  },
  {
   "cell_type": "markdown",
   "metadata": {
    "ai_eval_tool": {
     "snippet_hash": "5cb0979db038779eea74747578c4bf85",
     "snippet_label": "start"
    }
   },
   "source": [
    "<!-- Внимание! Здесь находится специальная отметка. Ее нельзя удалять! Ответы на вопросы / выводы для предыдущего пункта(ов) пиши в ячейках выше! -->\n",
    "<!-- 5cb0979db038779eea74747578c4bf85 -->\n",
    "2. Напишите, что делают следующие функции и опции:\n",
    "\n",
    "\n",
    "*  `meshgrid`\n",
    "\n",
    "*  `Figure`\n",
    "\n",
    "*  `Surface`\n",
    "\n",
    "*  `update_layout`\n",
    "\n",
    "*  `scene`\n",
    "\n",
    "*  `margin`\n"
   ]
  },
  {
   "cell_type": "markdown",
   "metadata": {},
   "source": [
    "np.meshgrid:  \n",
    "Преобразует одномерные массивы координат в двумерные сетки координат.  \n",
    "go.Figure:  \n",
    "Создаёт объект графика, который является контейнером для данных и настроек визуализации.  \n",
    "go.Surface:  \n",
    "Создаёт объект 3D-поверхности для отображения трёхмерных данных.  \n",
    "update_layout:  \n",
    "Изменяет общие настройки оформления графика.  \n",
    "scene:  \n",
    "Определяет настройки 3D-пространства для трёхмерных графиков.  \n",
    "margin:  \n",
    "Управляет отступами вокруг графика.  "
   ]
  },
  {
   "cell_type": "code",
   "execution_count": 8,
   "metadata": {
    "ai_eval_tool": {
     "snippet_hash": "5cb0979db038779eea74747578c4bf85",
     "snippet_label": "end"
    }
   },
   "outputs": [
    {
     "data": {
      "text/plain": [
       "Ellipsis"
      ]
     },
     "execution_count": 8,
     "metadata": {},
     "output_type": "execute_result"
    }
   ],
   "source": [
    "..."
   ]
  },
  {
   "cell_type": "markdown",
   "metadata": {
    "ai_eval_tool": {
     "snippet_hash": "2b7cf6390aa01f97d4e01e8c39bb1c82",
     "snippet_label": "start"
    }
   },
   "source": [
    "<!-- Внимание! Здесь находится специальная отметка. Ее нельзя удалять! Ответы на вопросы / выводы для предыдущего пункта(ов) пиши в ячейках выше! -->\n",
    "<!-- 2b7cf6390aa01f97d4e01e8c39bb1c82 -->\n",
    "3. Выясните, какой параметр отвечает за настройку цветовой палитры графика? Измените код так, чтобы палитра была от светло-розового до светло-голубого."
   ]
  },
  {
   "cell_type": "code",
   "execution_count": null,
   "metadata": {
    "ai_eval_tool": {
     "snippet_hash": "2b7cf6390aa01f97d4e01e8c39bb1c82",
     "snippet_label": "end"
    }
   },
   "outputs": [],
   "source": [
    "import plotly.graph_objects as go\n",
    "import numpy as np\n",
    "\n",
    "def plot_3d_surface():\n",
    "    x = np.linspace(-10, 10, 200)\n",
    "    y = np.linspace(-10, 10, 200)\n",
    "    x, y = np.meshgrid(x, y)\n",
    "    z = np.cos(np.sqrt(x**2 + y**2))\n",
    "\n",
    "    # Создаем поверхность с кастомной цветовой палитрой\n",
    "    fig = go.Figure(data=[go.Surface(\n",
    "        z=z, \n",
    "        x=x, \n",
    "        y=y,\n",
    "        colorscale=[[0, 'rgb(255, 182, 193)'], [1, 'rgb(173, 216, 230)']]  # От светло-розового до светло-голубого\n",
    "    )])\n",
    "    \n",
    "    fig.update_layout(\n",
    "        title='Cosine Function 3D Surface Plot',\n",
    "        scene=dict(\n",
    "            xaxis_title='X Axis',\n",
    "            yaxis_title='Y Axis',\n",
    "            zaxis_title='Z Axis',\n",
    "            aspectmode='cube',\n",
    "        ),\n",
    "        margin=dict(l=0, r=0, b=0, t=0)\n",
    "    )\n",
    "\n",
    "    fig.show()\n",
    "\n",
    "plot_3d_surface()"
   ]
  },
  {
   "cell_type": "markdown",
   "metadata": {
    "ai_eval_tool": {
     "snippet_hash": "fef35e7717db0ff880eb1f1ebf35cee3",
     "snippet_label": "start"
    }
   },
   "source": [
    "<!-- Внимание! Здесь находится специальная отметка. Ее нельзя удалять! Ответы на вопросы / выводы для предыдущего пункта(ов) пиши в ячейках выше! -->\n",
    "<!-- fef35e7717db0ff880eb1f1ebf35cee3 -->\n",
    "4. Измените функцию так, чтобы она могла получать любые параметры настройки графиков через `kwargs`. Это позволит пользователям гибко настраивать параметры графика.\n",
    "\n",
    "...И напишите подробную инструкцию для пользователя этой функции😃"
   ]
  },
  {
   "cell_type": "code",
   "execution_count": null,
   "metadata": {},
   "outputs": [],
   "source": [
    "import numpy as np\n",
    "import plotly.graph_objects as go\n",
    "\n",
    "\n",
    "def plot_3d_surface(**kwargs):\n",
    "    \"\"\"\n",
    "    Функция строит 3D-график поверхности функции cos(sqrt(x^2 + y^2)) \n",
    "    с возможностью настройки параметров через kwargs.\n",
    "\n",
    "    Параметры:\n",
    "    - x_range (tuple, default=(-10, 10)): Диапазон значений x (min, max).\n",
    "    - y_range (tuple, default=(-10, 10)): Диапазон значений y (min, max).\n",
    "    - resolution (int, default=200): Количество точек в сетке по каждой оси.\n",
    "    - title (str, default='Cosine Function 3D Surface Plot'): Заголовок графика.\n",
    "    - x_label (str, default='X Axis'): Название оси X.\n",
    "    - y_label (str, default='Y Axis'): Название оси Y.\n",
    "    - z_label (str, default='Z Axis'): Название оси Z.\n",
    "    - aspect (str, default='cube'): Режим отображения осей ('auto', 'cube', 'data').\n",
    "    - colorscale (str, default='Viridis'): Цветовая схема графика.\n",
    "\n",
    "    Пример использования:\n",
    "    >>> plot_3d_surface(title=\"Мой 3D график\", colorscale=\"Plasma\", resolution=300)\n",
    "    \"\"\"\n",
    "\n",
    "    # Получаем параметры из kwargs или устанавливаем значения по умолчанию\n",
    "    x_range = kwargs.get(\"x_range\", (-10, 10))\n",
    "    y_range = kwargs.get(\"y_range\", (-10, 10))\n",
    "    resolution = kwargs.get(\"resolution\", 200)\n",
    "    title = kwargs.get(\"title\", \"Cosine Function 3D Surface Plot\")\n",
    "    x_label = kwargs.get(\"x_label\", \"X Axis\")\n",
    "    y_label = kwargs.get(\"y_label\", \"Y Axis\")\n",
    "    z_label = kwargs.get(\"z_label\", \"Z Axis\")\n",
    "    aspect = kwargs.get(\"aspect\", \"cube\")\n",
    "    colorscale = kwargs.get(\"colorscale\", \"Viridis\")\n",
    "\n",
    "    # Создаем массив значений x и y в заданном диапазоне\n",
    "    x = np.linspace(x_range[0], x_range[1], resolution)\n",
    "    y = np.linspace(y_range[0], y_range[1], resolution)\n",
    "    \n",
    "    # Создаем двумерную сетку координат x и y\n",
    "    x, y = np.meshgrid(x, y)\n",
    "\n",
    "    # Вычисляем значения z\n",
    "    z = np.cos(np.sqrt(x**2 + y**2))\n",
    "\n",
    "    # Создаем 3D-график поверхности с использованием Plotly\n",
    "    fig = go.Figure(data=[go.Surface(z=z, x=x, y=y, colorscale=colorscale)])\n",
    "\n",
    "    # Настраиваем внешний вид графика\n",
    "    fig.update_layout(\n",
    "        title=title,  # Заголовок графика\n",
    "        scene=dict(\n",
    "            xaxis_title=x_label,  # Подпись оси X\n",
    "            yaxis_title=y_label,  # Подпись оси Y\n",
    "            zaxis_title=z_label,  # Подпись оси Z\n",
    "            aspectmode=aspect,  # Режим отображения осей\n",
    "        ),\n",
    "        margin=dict(l=0, r=0, b=0, t=0)  # Убираем отступы вокруг графика\n",
    "    )\n",
    "\n",
    "    # Отображаем график\n",
    "    fig.show()\n",
    "\n",
    "\n",
    "# Пример использования с пользовательскими параметрами\n",
    "plot_3d_surface(\n",
    "    title=\"Мой 3D График\",\n",
    "    x_range=(-8, 8),\n",
    "    y_range=(-8, 8),\n",
    "    resolution=250,\n",
    "    x_label=\"Ось X\",\n",
    "    y_label=\"Ось Y\",\n",
    "    z_label=\"Ось Z\",\n",
    "    aspect=\"auto\",\n",
    "    colorscale=\"Cividis\"\n",
    ")\n",
    "\n"
   ]
  },
  {
   "cell_type": "markdown",
   "metadata": {
    "ai_eval_tool": {
     "snippet_hash": "fef35e7717db0ff880eb1f1ebf35cee3",
     "snippet_label": "end"
    }
   },
   "source": [
    "..."
   ]
  },
  {
   "cell_type": "markdown",
   "metadata": {
    "id": "uqbL_wWWxEKS"
   },
   "source": [
    "<!-- Внимание! Здесь находится специальная отметка. Ее нельзя удалять! Ответы на вопросы / выводы для предыдущего пункта(ов) пиши в ячейках выше! -->\n",
    "<!-- 00000000000000000000000000000000 -->\n",
    "---\n",
    "### <font color=\"orange\"><i>Сложная часть</i></font>"
   ]
  },
  {
   "cell_type": "markdown",
   "metadata": {
    "id": "99K4z6B9xEKT"
   },
   "source": [
    "### Задача 3.\n",
    "\n",
    "Эта задача предназначена для развития навыков работы с библиотекой pandas и простого анализа табличных данных. В ней детально описаны все шаги, которые необходимо выполнить. Если что-то не понятно, спросите ИИ или в чате курса."
   ]
  },
  {
   "cell_type": "markdown",
   "metadata": {
    "id": "EjO5VDeFxEKT"
   },
   "source": [
    "<a target=\"_blank\" href=\"https://www.yelp.com/\">Yelp</a> — веб-сайт для поиска на местном рынке услуг, например ресторанов или парикмахерских, с возможностью добавлять и просматривать рейтинги и обзоры этих услуг. Для популярных бизнесов имеются сотни обзоров. Для обозревателей на сайте предусмотрены элементы социальной сети.\n",
    "\n",
    "![Yelp](https://upload.wikimedia.org/wikipedia/commons/thumb/a/ad/Yelp_Logo.svg/300px-Yelp_Logo.svg.png)\n",
    "\n",
    "_____________\n",
    "\n",
    "Вам предоставляется следующая информация о компаниях на Yelp:\n",
    "\n",
    "Файл `yelp_business.csv`:\n",
    "* `business_id` — уникальный идентификатор компании;\n",
    "* `name` — имя компании;\n",
    "* `address`, `city`, `state` — месторасположении компании;\n",
    "* `latitude`, `longitude` — географические координаты;\n",
    "* `categories` — категории услуг компании.\n",
    "\n",
    "Файл `yelp_review.csv`, содержащий оценки пользователей:\n",
    "* `business_id` — идентификатор компании, соответствующий файлу `yelp_business.csv`;\n",
    "* `stars` — поставленная пользователем оценка от 1 до 5.\n",
    "\n",
    "В целях сокращения объема файла, текстовые отзывы пользователей не были включены.\n",
    "\n",
    "Оригинальную версию датасета в формате `json` можно посмотреть по <a target=\"_blank\" href=\"https://www.kaggle.com/yelp-dataset/yelp-dataset/data\">ссылке</a>, но использовать нужно выданные данные.\n",
    "\n",
    "_____________\n",
    "\n",
    "**Что нужно сделать:**\n",
    "\n",
    "* Найти город с наибольшим количеством компаний;\n",
    "* Для этого города определить районы с наиболее качественными услугами. <a target=\"_blank\" href=\"https://yandex.ru/company/researches/2017/msk_mobile_map\">Пример</a> с несколько другой задачей.\n",
    "* А также найти рестораны с наилучшими отзывами.\n",
    "\n",
    "\n",
    "*Далее в условии встречаются различные подсказки, как можно выполнить определенные части задачи. Вы можете их игнорировать и делать иным способом для получения **того же самого промежуточного результата**. Однако, если ваше решение окажется **значительно** менее эффективным (по скорости, количеству и красоте кода) по сравнению с предполагаемым, баллы могут быть снижены.*\n",
    "\n",
    "------"
   ]
  },
  {
   "cell_type": "markdown",
   "metadata": {
    "id": "rWJoGokZxEKT"
   },
   "source": [
    "#### 1. Город с наибольшим количеством компаний\n",
    "\n",
    "Загрузите данные из файла `yelp_business.csv` с помощью функции `pd.read_csv`. Посмотрите на первые несколько строк с помощью метода `head`."
   ]
  },
  {
   "cell_type": "code",
   "execution_count": 4,
   "metadata": {},
   "outputs": [
    {
     "name": "stdout",
     "output_type": "stream",
     "text": [
      "Defaulting to user installation because normal site-packages is not writeable\n",
      "Requirement already satisfied: pandas in /home/gavnodav/.local/lib/python3.12/site-packages (2.1.4)\n",
      "Requirement already satisfied: numpy<2,>=1.26.0 in /home/gavnodav/.local/lib/python3.12/site-packages (from pandas) (1.26.2)\n",
      "Requirement already satisfied: python-dateutil>=2.8.2 in /usr/lib/python3.12/site-packages (from pandas) (2.8.2)\n",
      "Requirement already satisfied: pytz>=2020.1 in /usr/lib/python3.12/site-packages (from pandas) (2024.2)\n",
      "Requirement already satisfied: tzdata>=2022.1 in /home/gavnodav/.local/lib/python3.12/site-packages (from pandas) (2023.3)\n",
      "Requirement already satisfied: six>=1.5 in /usr/lib/python3.12/site-packages (from python-dateutil>=2.8.2->pandas) (1.16.0)\n",
      "Note: you may need to restart the kernel to use updated packages.\n"
     ]
    }
   ],
   "source": [
    "%pip install pandas"
   ]
  },
  {
   "cell_type": "code",
   "execution_count": 5,
   "metadata": {},
   "outputs": [],
   "source": [
    "import pandas as pd\n",
    "import matplotlib.pyplot as plt\n",
    "import numpy as np\n"
   ]
  },
  {
   "cell_type": "code",
   "execution_count": 6,
   "metadata": {
    "id": "fA_w156JxEKU"
   },
   "outputs": [
    {
     "data": {
      "text/html": [
       "<div>\n",
       "<style scoped>\n",
       "    .dataframe tbody tr th:only-of-type {\n",
       "        vertical-align: middle;\n",
       "    }\n",
       "\n",
       "    .dataframe tbody tr th {\n",
       "        vertical-align: top;\n",
       "    }\n",
       "\n",
       "    .dataframe thead th {\n",
       "        text-align: right;\n",
       "    }\n",
       "</style>\n",
       "<table border=\"1\" class=\"dataframe\">\n",
       "  <thead>\n",
       "    <tr style=\"text-align: right;\">\n",
       "      <th></th>\n",
       "      <th>Unnamed: 0</th>\n",
       "      <th>business_id</th>\n",
       "      <th>name</th>\n",
       "      <th>neighborhood</th>\n",
       "      <th>address</th>\n",
       "      <th>city</th>\n",
       "      <th>state</th>\n",
       "      <th>postal_code</th>\n",
       "      <th>latitude</th>\n",
       "      <th>longitude</th>\n",
       "      <th>is_open</th>\n",
       "      <th>categories</th>\n",
       "    </tr>\n",
       "  </thead>\n",
       "  <tbody>\n",
       "    <tr>\n",
       "      <th>0</th>\n",
       "      <td>0</td>\n",
       "      <td>FYWN1wneV18bWNgQjJ2GNg</td>\n",
       "      <td>\"Dental by Design\"</td>\n",
       "      <td>NaN</td>\n",
       "      <td>\"4855 E Warner Rd, Ste B9\"</td>\n",
       "      <td>Ahwatukee</td>\n",
       "      <td>AZ</td>\n",
       "      <td>85044</td>\n",
       "      <td>33.330690</td>\n",
       "      <td>-111.978599</td>\n",
       "      <td>1</td>\n",
       "      <td>Dentists;General Dentistry;Health &amp; Medical;Or...</td>\n",
       "    </tr>\n",
       "    <tr>\n",
       "      <th>1</th>\n",
       "      <td>1</td>\n",
       "      <td>He-G7vWjzVUysIKrfNbPUQ</td>\n",
       "      <td>\"Stephen Szabo Salon\"</td>\n",
       "      <td>NaN</td>\n",
       "      <td>\"3101 Washington Rd\"</td>\n",
       "      <td>McMurray</td>\n",
       "      <td>PA</td>\n",
       "      <td>15317</td>\n",
       "      <td>40.291685</td>\n",
       "      <td>-80.104900</td>\n",
       "      <td>1</td>\n",
       "      <td>Hair Stylists;Hair Salons;Men's Hair Salons;Bl...</td>\n",
       "    </tr>\n",
       "    <tr>\n",
       "      <th>2</th>\n",
       "      <td>2</td>\n",
       "      <td>KQPW8lFf1y5BT2MxiSZ3QA</td>\n",
       "      <td>\"Western Motor Vehicle\"</td>\n",
       "      <td>NaN</td>\n",
       "      <td>\"6025 N 27th Ave, Ste 1\"</td>\n",
       "      <td>Phoenix</td>\n",
       "      <td>AZ</td>\n",
       "      <td>85017</td>\n",
       "      <td>33.524903</td>\n",
       "      <td>-112.115310</td>\n",
       "      <td>1</td>\n",
       "      <td>Departments of Motor Vehicles;Public Services ...</td>\n",
       "    </tr>\n",
       "    <tr>\n",
       "      <th>3</th>\n",
       "      <td>3</td>\n",
       "      <td>8DShNS-LuFqpEWIp0HxijA</td>\n",
       "      <td>\"Sports Authority\"</td>\n",
       "      <td>NaN</td>\n",
       "      <td>\"5000 Arizona Mills Cr, Ste 435\"</td>\n",
       "      <td>Tempe</td>\n",
       "      <td>AZ</td>\n",
       "      <td>85282</td>\n",
       "      <td>33.383147</td>\n",
       "      <td>-111.964725</td>\n",
       "      <td>0</td>\n",
       "      <td>Sporting Goods;Shopping</td>\n",
       "    </tr>\n",
       "    <tr>\n",
       "      <th>4</th>\n",
       "      <td>4</td>\n",
       "      <td>PfOCPjBrlQAnz__NXj9h_w</td>\n",
       "      <td>\"Brick House Tavern + Tap\"</td>\n",
       "      <td>NaN</td>\n",
       "      <td>\"581 Howe Ave\"</td>\n",
       "      <td>Cuyahoga Falls</td>\n",
       "      <td>OH</td>\n",
       "      <td>44221</td>\n",
       "      <td>41.119535</td>\n",
       "      <td>-81.475690</td>\n",
       "      <td>1</td>\n",
       "      <td>American (New);Nightlife;Bars;Sandwiches;Ameri...</td>\n",
       "    </tr>\n",
       "  </tbody>\n",
       "</table>\n",
       "</div>"
      ],
      "text/plain": [
       "   Unnamed: 0             business_id                        name  \\\n",
       "0           0  FYWN1wneV18bWNgQjJ2GNg          \"Dental by Design\"   \n",
       "1           1  He-G7vWjzVUysIKrfNbPUQ       \"Stephen Szabo Salon\"   \n",
       "2           2  KQPW8lFf1y5BT2MxiSZ3QA     \"Western Motor Vehicle\"   \n",
       "3           3  8DShNS-LuFqpEWIp0HxijA          \"Sports Authority\"   \n",
       "4           4  PfOCPjBrlQAnz__NXj9h_w  \"Brick House Tavern + Tap\"   \n",
       "\n",
       "  neighborhood                           address            city state  \\\n",
       "0          NaN        \"4855 E Warner Rd, Ste B9\"       Ahwatukee    AZ   \n",
       "1          NaN              \"3101 Washington Rd\"        McMurray    PA   \n",
       "2          NaN          \"6025 N 27th Ave, Ste 1\"         Phoenix    AZ   \n",
       "3          NaN  \"5000 Arizona Mills Cr, Ste 435\"           Tempe    AZ   \n",
       "4          NaN                    \"581 Howe Ave\"  Cuyahoga Falls    OH   \n",
       "\n",
       "  postal_code   latitude   longitude  is_open  \\\n",
       "0       85044  33.330690 -111.978599        1   \n",
       "1       15317  40.291685  -80.104900        1   \n",
       "2       85017  33.524903 -112.115310        1   \n",
       "3       85282  33.383147 -111.964725        0   \n",
       "4       44221  41.119535  -81.475690        1   \n",
       "\n",
       "                                          categories  \n",
       "0  Dentists;General Dentistry;Health & Medical;Or...  \n",
       "1  Hair Stylists;Hair Salons;Men's Hair Salons;Bl...  \n",
       "2  Departments of Motor Vehicles;Public Services ...  \n",
       "3                            Sporting Goods;Shopping  \n",
       "4  American (New);Nightlife;Bars;Sandwiches;Ameri...  "
      ]
     },
     "execution_count": 6,
     "metadata": {},
     "output_type": "execute_result"
    }
   ],
   "source": [
    "data = pd.read_csv(\"yelp_business.csv\")\n",
    "data.head()"
   ]
  },
  {
   "cell_type": "markdown",
   "metadata": {
    "id": "FD8pWselxEKU"
   },
   "source": [
    "Найдите пять городов, по которым присутствует информация о наибольшем количестве компаний. В таблице должен быть указан город (название) и количество компаний в этом городе.\n",
    "\n",
    "*Подсказка.* Для выполнения стоит воспользоваться методами `groupby`, `count`, `sort_values`, `head`."
   ]
  },
  {
   "cell_type": "code",
   "execution_count": 7,
   "metadata": {
    "id": "FXfgjeOUxEKU"
   },
   "outputs": [
    {
     "data": {
      "text/plain": [
       "city\n",
       "Las Vegas     26775\n",
       "Phoenix       17213\n",
       "Toronto       17206\n",
       "Charlotte      8553\n",
       "Scottsdale     8228\n",
       "Name: business_id, dtype: int64"
      ]
     },
     "execution_count": 7,
     "metadata": {},
     "output_type": "execute_result"
    }
   ],
   "source": [
    "data.groupby('city')['business_id'].count().sort_values(ascending=False).head()\n"
   ]
  },
  {
   "cell_type": "markdown",
   "metadata": {
    "ai_eval_tool": {
     "snippet_hash": "e7cca0cc751f37cd60e6ee92b5464ba1",
     "snippet_label": "start"
    },
    "id": "fhH1dum6xEKU"
   },
   "source": [
    "<!-- Внимание! Здесь находится специальная отметка. Ее нельзя удалять! Ответы на вопросы / выводы для предыдущего пункта(ов) пиши в ячейках выше! -->\n",
    "<!-- e7cca0cc751f37cd60e6ee92b5464ba1 -->\n",
    "Пусть `N` &mdash; город с наибольшим количеством компаний. Оставьте в таблице только записи, соответствующие городу `N`. Нанесите все эти компании на график, в котором по оси $x$ отметьте долготу, а по оси $y$ &mdash; широту."
   ]
  },
  {
   "cell_type": "code",
   "execution_count": 8,
   "metadata": {
    "id": "5WMisMOixEKV"
   },
   "outputs": [
    {
     "data": {
      "image/png": "[encoded data removed]",
      "text/plain": [
       "<Figure size 640x480 with 1 Axes>"
      ]
     },
     "metadata": {},
     "output_type": "display_data"
    }
   ],
   "source": [
    "tmp = data.loc[data['city'] == 'Las Vegas', ['latitude', 'longitude']].copy()\n",
    "latitude, longitude = tmp['latitude'], tmp['longitude']\n",
    "plt.scatter(longitude, latitude)\n",
    "plt.ylabel(\"Широта\")\n",
    "plt.xlabel(\"Долгота\")\n",
    "plt.grid(True)\n",
    "plt.show()"
   ]
  },
  {
   "cell_type": "markdown",
   "metadata": {
    "id": "xZBne9QZxEKV"
   },
   "source": [
    "Сам город находится в сгустке точек. Есть какие-то компании, которые приписаны к этому городу, но находятся далеко от него. Избавьтесь от них, подобрав некоторые границы значений широты и долготы. Изобразите все компании на новом графике. На этом графике должны выделяться некоторые улицы."
   ]
  },
  {
   "cell_type": "code",
   "execution_count": 9,
   "metadata": {
    "ai_eval_tool": {
     "snippet_hash": "e7cca0cc751f37cd60e6ee92b5464ba1",
     "snippet_label": "end"
    },
    "id": "DC7OJXJbxEKV"
   },
   "outputs": [
    {
     "data": {
      "image/png": "[encoded data removed]",
      "text/plain": [
       "<Figure size 640x480 with 1 Axes>"
      ]
     },
     "metadata": {},
     "output_type": "display_data"
    }
   ],
   "source": [
    "tmp = tmp[(tmp['latitude'] >= 30) & (tmp['latitude'] <= 40) & \n",
    "              (tmp['longitude'] >= -120) & (tmp['longitude'] <= -110)]\n",
    "latitude, longitude = tmp['latitude'], tmp['longitude']\n",
    "plt.scatter(longitude, latitude)\n",
    "plt.ylabel(\"Широта\")\n",
    "plt.xlabel(\"Долгота\")\n",
    "plt.grid(True)\n",
    "plt.show()\n"
   ]
  },
  {
   "cell_type": "markdown",
   "metadata": {},
   "source": [
    "Для определения границ воспользуемся библиотекой Numpy"
   ]
  },
  {
   "cell_type": "code",
   "execution_count": 10,
   "metadata": {},
   "outputs": [
    {
     "data": {
      "image/png": "[encoded data removed]",
      "text/plain": [
       "<Figure size 640x480 with 1 Axes>"
      ]
     },
     "metadata": {},
     "output_type": "display_data"
    }
   ],
   "source": [
    "latitude_q1 = np.percentile(latitude, 25)\n",
    "latitude_q3 = np.percentile(latitude, 75)\n",
    "longitude_q1 = np.percentile(longitude, 25)\n",
    "longitude_q3 = np.percentile(longitude, 75)\n",
    "latitude_iqr = latitude_q3 - latitude_q1\n",
    "longitude_iqr = longitude_q3 - longitude_q1\n",
    "plt.scatter(longitude, latitude, s=2)\n",
    "plt.ylabel(\"Широта\")\n",
    "plt.xlabel(\"Долгота\")\n",
    "plt.xlim(longitude_q1 - longitude_iqr, longitude_q3 + longitude_iqr)\n",
    "plt.ylim(latitude_q1 - latitude_iqr, latitude_q3 + latitude_iqr)\n",
    "plt.grid(True)\n",
    "plt.show()\n"
   ]
  },
  {
   "cell_type": "markdown",
   "metadata": {
    "ai_eval_tool": {
     "snippet_hash": "3886558247e1540e5610b13a0a5ff638",
     "snippet_label": "start"
    },
    "id": "-QX2ILkkxEKV"
   },
   "source": [
    "<!-- Внимание! Здесь находится специальная отметка. Ее нельзя удалять! Ответы на вопросы / выводы для предыдущего пункта(ов) пиши в ячейках выше! -->\n",
    "<!-- 3886558247e1540e5610b13a0a5ff638 -->\n",
    "Разберитесь с тем, как подгрузить интерактивную карту города в качестве фона графика. Можно пойти двумя следующими способами.\n",
    "1. Изучить <a href=\"https://thetahat.ru/courses/python/09\" target=\"_blank\">материалы</a> по библиотеке <a href=\"https://plotly.com/python/\" target=\"_blank\"><b>Plotly</b></a>. Возможно, потребуется также заглянуть в документацию.\n",
    "1. Поразбираться с библиотекой <a href=\"https://github.com/python-visualization/folium\" target=\"_blank\"><b>Folium</b></a>. Посмотрите множество <a href=\"https://nbviewer.org/github/python-visualization/folium/tree/main/examples/\" target=\"_blank\">примеров</a>, может также помочь <a href=\"https://proglib.io/p/python-web-map\" target=\"_blank\">статья на русском</a>.\n",
    "\n",
    "*Внимание!* Интерактивная карта может не сохраниться в ноутбуке, а если сохранится, то вес ноутбука может превзойти 20 Мб, и его не получится отправить боту. В любом случае **<u>необходимо сохранить карту в html и отправить ее отдельным файлом в бот.</u>** При этом каждый файл html должен не превышать 20 Мб, присылать файлы в архиве нельзя. Аналогично со всеми следующими интерактивными графиками в этом задании."
   ]
  },
  {
   "cell_type": "code",
   "execution_count": 11,
   "metadata": {
    "ai_eval_tool": {
     "snippet_hash": "3886558247e1540e5610b13a0a5ff638",
     "snippet_label": "end"
    },
    "id": "cgxzP8VGxEKV"
   },
   "outputs": [],
   "source": [
    "import plotly.express as px"
   ]
  },
  {
   "cell_type": "code",
   "execution_count": null,
   "metadata": {},
   "outputs": [],
   "source": [
    "map_df = data.loc[data['city'] == 'Las Vegas', ['name', 'latitude', 'longitude']].copy()\n",
    "\n",
    "map_df = map_df[((map_df['latitude'] <= 36.225) & (map_df['latitude'] >= 36.050) & (map_df['longitude'] <= -115.05) & (map_df['longitude'] >= -115.35))]\n",
    "\n",
    "map_graph = px.scatter_map(\n",
    "  map_df,\n",
    "  lat='latitude',\n",
    "  lon='longitude',\n",
    "  hover_name='name',\n",
    "  zoom=11,\n",
    ")\n",
    "\n",
    "map_graph.show()\n",
    "\n",
    "\n",
    "\n",
    "map_graph.write_html(\"map.html\")"
   ]
  },
  {
   "cell_type": "markdown",
   "metadata": {
    "id": "rhekFZ5cxEKW"
   },
   "source": [
    "<!-- Внимание! Здесь находится специальная отметка. Ее нельзя удалять! Ответы на вопросы / выводы для предыдущего пункта(ов) пиши в ячейках выше! -->\n",
    "<!-- 00000000000000000000000000000000 -->\n",
    "Если все получилось, вы молодцы! Далее в этой задаче тоже стройте интерактивные карты. Если нет желания разбираться с интерактивными графиками, можно построить статичные, но баллы будут снижены."
   ]
  },
  {
   "cell_type": "markdown",
   "metadata": {
    "id": "vgWhyW1KxEKW"
   },
   "source": [
    "#### 2. Оценки компаний\n",
    "\n",
    "Для выполнения задания нужно посчитать среднюю оценку каждой компании, а также количество выставленных оценок.\n",
    "\n",
    "Загрузите таблицу оценок `yelp_review.csv`."
   ]
  },
  {
   "cell_type": "code",
   "execution_count": 20,
   "metadata": {
    "id": "IjFZSbwlxEKW"
   },
   "outputs": [],
   "source": [
    "marks = pd.read_csv(\"yelp_review.csv\")"
   ]
  },
  {
   "cell_type": "markdown",
   "metadata": {
    "id": "rbQrWn-lxEKW"
   },
   "source": [
    "В подгруженной таблице оценок оставьте только компании города `N`. Для этого установите значения `business_id` в качестве индекса у таблицы оценок и воспользуйтесь методом `loc`.\n",
    "\n",
    "*Подсказка.* Чтобы индекс снова сделать полем таблицы, можно воспользоваться методом `reset_index`."
   ]
  },
  {
   "cell_type": "code",
   "execution_count": null,
   "metadata": {
    "id": "YAa5MAQSxEKW"
   },
   "outputs": [],
   "source": [
    "marks.set_index('business_id')\n",
    "marks = marks.loc[data.loc[marks.index]['city'] == 'Las Vegas']\n"
   ]
  },
  {
   "cell_type": "markdown",
   "metadata": {
    "id": "3aSk-OB9xEKX"
   },
   "source": [
    "Теперь посчитайте среднюю оценку каждой компании, а также количество выставленных компании оценок.\n",
    "\n",
    "*Подсказка.* Помочь в этом могут функции `groupby` и `aggregate([np.mean, np.size])`."
   ]
  },
  {
   "cell_type": "code",
   "execution_count": null,
   "metadata": {
    "id": "Gwn92vaIxEKX"
   },
   "outputs": [],
   "source": [
    "..."
   ]
  },
  {
   "cell_type": "markdown",
   "metadata": {
    "id": "IwnkRf0UxEKX"
   },
   "source": [
    "Назовите колонки таблицы красивыми именами, изменив `<имя таблицы>.columns`, после чего напечатайте несколько строк полученной таблицы. Красивые имена &mdash; то, что будет понятно простому человеку при чтении ваших результатов. Как именно их назвать &mdash; задача аналитика, то есть в данном случае ваша :)"
   ]
  },
  {
   "cell_type": "code",
   "execution_count": null,
   "metadata": {
    "id": "dt3kQctNxEKX"
   },
   "outputs": [],
   "source": [
    "..."
   ]
  },
  {
   "cell_type": "markdown",
   "metadata": {
    "id": "pgjPwOQ9xEKY"
   },
   "source": [
    "Соедините две полученные ранее таблицы по компаниям города `N` в одну.\n",
    "Для этого сначала установите поле `business_id` в качестве индекса в обеих таблицах с помощью `set_index`. В одной из них это уже должно было быть сделано.\n",
    "В полученной таблице должны получится поля `latitude`, `longitude`, `categories`, `name`, а также две колонки со средней оценкой компаний и количеством оценок, которые вы посчитали выше.\n",
    "\n",
    "*Подсказка.* Соединение таблиц можно выполнить с помощью `join`.\n",
    "Индексы у этих таблиц одинаковые, так что тип джойна не имеет значения."
   ]
  },
  {
   "cell_type": "code",
   "execution_count": null,
   "metadata": {
    "id": "QaUFaqVnxEKY"
   },
   "outputs": [],
   "source": [
    "..."
   ]
  },
  {
   "cell_type": "markdown",
   "metadata": {
    "ai_eval_tool": {
     "snippet_hash": "bba9ec349279ff7d3caf3717aabafe3e",
     "snippet_label": "start"
    },
    "id": "O80wkzT3xEKY"
   },
   "source": [
    "<!-- Внимание! Здесь находится специальная отметка. Ее нельзя удалять! Ответы на вопросы / выводы для предыдущего пункта(ов) пиши в ячейках выше! -->\n",
    "<!-- bba9ec349279ff7d3caf3717aabafe3e -->\n",
    "Изобразите все компании на графике, раскрасив точку в цвет, оттенок которого соответствует средней оценке компании. Прозрачность точки выставляйте не более $0.3$. Если у одной компании несколько филиалов с разными адресами, наносите на график все адреса."
   ]
  },
  {
   "cell_type": "code",
   "execution_count": null,
   "metadata": {
    "ai_eval_tool": {
     "snippet_hash": "bba9ec349279ff7d3caf3717aabafe3e",
     "snippet_label": "end"
    },
    "id": "rsZoLgzTxEKY"
   },
   "outputs": [],
   "source": [
    "..."
   ]
  },
  {
   "cell_type": "markdown",
   "metadata": {
    "id": "0U97PAINxEKZ"
   },
   "source": [
    "<!-- Внимание! Здесь находится специальная отметка. Ее нельзя удалять! Ответы на вопросы / выводы для предыдущего пункта(ов) пиши в ячейках выше! -->\n",
    "<!-- 00000000000000000000000000000000 -->\n",
    "Чтобы получить районы города, то есть разделить город на \"клетки\", округлите значения широты и долготы, подобрав оптимальный размер района.\n",
    "\n",
    "*Подсказка.* Например, можно сделать так\n",
    "`np.round(долгота*4, decimals=1)*0.25`."
   ]
  },
  {
   "cell_type": "code",
   "execution_count": null,
   "metadata": {
    "id": "YMGfQxRhxEKZ"
   },
   "outputs": [],
   "source": [
    "..."
   ]
  },
  {
   "cell_type": "markdown",
   "metadata": {
    "ai_eval_tool": {
     "snippet_hash": "228c0524733d5289e94cde00fc9b704b",
     "snippet_label": "start"
    },
    "id": "C7RWeI5dxEKa"
   },
   "source": [
    "<!-- Внимание! Здесь находится специальная отметка. Ее нельзя удалять! Ответы на вопросы / выводы для предыдущего пункта(ов) пиши в ячейках выше! -->\n",
    "<!-- 228c0524733d5289e94cde00fc9b704b -->\n",
    "Для получения средней оценки компаний по району постройте сводную таблицу при помощи `pd.pivot_table`, взяв в качестве индексов и колонок округленные широту и долготу, а в качестве значений &mdash; оценки. Аггрегирующей функцией является среднее.\n",
    "\n",
    "Изобразите полученную таблицу при помощи `sns.heatmap`.\n",
    "\n",
    "*Замечание.* В качестве среднего можно было бы посчитать как общее среднее по всем оценкам всех компаний, так и среднее по компаниям их средних оценок. В чем разница этих подходов? Какой из них необходимо использовать в данном случае?"
   ]
  },
  {
   "cell_type": "code",
   "execution_count": null,
   "metadata": {
    "ai_eval_tool": {
     "snippet_hash": "228c0524733d5289e94cde00fc9b704b",
     "snippet_label": "end"
    },
    "id": "cm_C3qxUxEKa"
   },
   "outputs": [],
   "source": [
    "..."
   ]
  },
  {
   "cell_type": "markdown",
   "metadata": {
    "ai_eval_tool": {
     "snippet_hash": "b4c4e083ebff2a19367f2df3097fcc53",
     "snippet_label": "end"
    },
    "id": "oX20j_RyxEKa"
   },
   "source": [
    "<!-- Внимание! Здесь находится специальная отметка. Ее нельзя удалять! Ответы на вопросы / выводы для предыдущего пункта(ов) пиши в ячейках выше! -->\n",
    "<!-- b4c4e083ebff2a19367f2df3097fcc53 -->\n",
    "Полученный график имеет ряд недостатков. Во-первых, не очень правильно судить о районе, если в нем мало компаний. Во-вторых,  на графике цветовая гамма автоматически подстроилась под минимальное и максимальное значения оценки.\n",
    "\n",
    "Почему эти недостатки могут быть существенными?\n",
    "\n",
    "**Ответ:** <...>"
   ]
  },
  {
   "cell_type": "markdown",
   "metadata": {
    "ai_eval_tool": {
     "snippet_hash": "e8acf0d523beb5602fbacb4f19b6e912",
     "snippet_label": "start"
    },
    "id": "wAVBtslVxEKb"
   },
   "source": [
    "<!-- Внимание! Здесь находится специальная отметка. Ее нельзя удалять! Ответы на вопросы / выводы для предыдущего пункта(ов) пиши в ячейках выше! -->\n",
    "<!-- e8acf0d523beb5602fbacb4f19b6e912 -->\n",
    "Оставьте районы, в которых имеется информация о не менее $30$ компаний. Постройте новый график районов, использовав параметры `vmin` и `vmax` у функции `sns.heatmap`."
   ]
  },
  {
   "cell_type": "code",
   "execution_count": null,
   "metadata": {
    "id": "DoQmHGOSxEKb"
   },
   "outputs": [],
   "source": [
    "..."
   ]
  },
  {
   "cell_type": "markdown",
   "metadata": {
    "ai_eval_tool": {
     "snippet_hash": "e8acf0d523beb5602fbacb4f19b6e912",
     "snippet_label": "end"
    },
    "id": "5_FU0xEExEKc"
   },
   "source": [
    "Сравните полученный график с предыдущим и сделайте вывод.\n",
    "\n",
    "**Вывод:** <...>"
   ]
  },
  {
   "cell_type": "markdown",
   "metadata": {
    "ai_eval_tool": {
     "snippet_hash": "41f197dab9cc006425d5cbab8bcc12f8",
     "snippet_label": "start"
    },
    "id": "mAkLWNoZxEKc"
   },
   "source": [
    "<!-- Внимание! Здесь находится специальная отметка. Ее нельзя удалять! Ответы на вопросы / выводы для предыдущего пункта(ов) пиши в ячейках выше! -->\n",
    "<!-- 41f197dab9cc006425d5cbab8bcc12f8 -->\n",
    "#### 3. Рестораны\n",
    "\n",
    "Будем считать компанию рестораном, если в поле `categories` *содержится* слово `restaurant`. Обратите внимание, что в анализе данных часто нет четкого формата данных. Например, данное слово может быть написано как с большой буквы, так и с маленькой; может как разделяться `;`, так и не разделяться. При возникновении недопонимания стоит посмотреть данные.\n",
    "\n",
    "Составьте таблицу, в которой будет информация о всех ресторанах города `N`, для которых имеется не менее $5$ отзывов. Далее постройте heatmap-график районов, в котором каждому району сопоставьте среднюю оценку по ресторанам этого района. Рассматривайте только те районы, в которых есть не менее $10$ ресторанов, для каждого из которых есть не менее $5$ отзывов."
   ]
  },
  {
   "cell_type": "code",
   "execution_count": null,
   "metadata": {
    "id": "8lusog5LxEKc"
   },
   "outputs": [],
   "source": [
    "..."
   ]
  },
  {
   "cell_type": "markdown",
   "metadata": {
    "ai_eval_tool": {
     "snippet_hash": "41f197dab9cc006425d5cbab8bcc12f8",
     "snippet_label": "end"
    },
    "id": "6W0q879WxEKc"
   },
   "source": [
    "Чем полезны ограничения снизу на количество отзывов для ресторана и количество ресторанов в районе?\n",
    "\n",
    "**Ответ:** <...>"
   ]
  },
  {
   "cell_type": "markdown",
   "metadata": {
    "ai_eval_tool": {
     "snippet_hash": "cae6db258b07ada817b6c441921e0cd8",
     "snippet_label": "start"
    },
    "id": "7pxNI-aaxEKc"
   },
   "source": [
    "<!-- Внимание! Здесь находится специальная отметка. Ее нельзя удалять! Ответы на вопросы / выводы для предыдущего пункта(ов) пиши в ячейках выше! -->\n",
    "<!-- cae6db258b07ada817b6c441921e0cd8 -->\n",
    "Кот Василий из города `N` очень придирчив к выбору ресторана. Он доверяет только ресторанам с высоким рейтингом, который основывается на большом количестве отзывов. Напечатайте в виде таблицы информацию $10$ ресторанах с самым большим рейтингом в порядке убывания рейтинга. Для каждого из этих ресторанов должно быть не менее $50$ отзывов. По каждому ресторану необходимо вывести следующую информации: название ресторана, средняя оценка, количество отзывов, географические координаты, категории."
   ]
  },
  {
   "cell_type": "code",
   "execution_count": null,
   "metadata": {
    "ai_eval_tool": {
     "snippet_hash": "cae6db258b07ada817b6c441921e0cd8",
     "snippet_label": "end"
    },
    "id": "pZRe0BexxEKc"
   },
   "outputs": [],
   "source": [
    "..."
   ]
  },
  {
   "cell_type": "markdown",
   "metadata": {
    "ai_eval_tool": {
     "snippet_hash": "3dfd6f8a8d445e64850dc7cb2d5beca9",
     "snippet_label": "start"
    },
    "id": "Jq413K26xEKc"
   },
   "source": [
    "<!-- Внимание! Здесь находится специальная отметка. Ее нельзя удалять! Ответы на вопросы / выводы для предыдущего пункта(ов) пиши в ячейках выше! -->\n",
    "<!-- 3dfd6f8a8d445e64850dc7cb2d5beca9 -->\n",
    "Нанесите на карту все рестораны со средней оценкой не менее $4.7$, которая посчитана по не менее $50$ отзывам. Отдельным цветом отметьте 10 ресторанов, которые вы получили ранее."
   ]
  },
  {
   "cell_type": "code",
   "execution_count": null,
   "metadata": {
    "ai_eval_tool": {
     "snippet_hash": "3dfd6f8a8d445e64850dc7cb2d5beca9",
     "snippet_label": "end"
    },
    "id": "x5TtsFSLxEKd"
   },
   "outputs": [],
   "source": [
    "..."
   ]
  },
  {
   "cell_type": "markdown",
   "metadata": {
    "ai_eval_tool": {
     "snippet_hash": "7ddef107ae40b08ee84032d80dbfe73c",
     "snippet_label": "end"
    },
    "id": "v_SOsRfRxEKd"
   },
   "source": [
    "<!-- Внимание! Здесь находится специальная отметка. Ее нельзя удалять! Ответы на вопросы / выводы для предыдущего пункта(ов) пиши в ячейках выше! -->\n",
    "<!-- 7ddef107ae40b08ee84032d80dbfe73c -->\n",
    "Охарактеризуйте кота Василия, а также сделайте общий вывод по задаче.\n",
    "\n",
    "**Вывод:** <...>"
   ]
  },
  {
   "cell_type": "markdown",
   "metadata": {
    "ai_eval_tool": {
     "snippet_hash": "50003c7e0087be3d9377b547465ce334",
     "snippet_label": "start"
    },
    "id": "Pl9rquPBNRhX"
   },
   "source": [
    "<!-- Внимание! Здесь находится специальная отметка. Ее нельзя удалять! Ответы на вопросы / выводы для предыдущего пункта(ов) пиши в ячейках выше! -->\n",
    "<!-- 50003c7e0087be3d9377b547465ce334 -->\n",
    "---\n",
    "\n",
    "### Задача 4.\n",
    "\n",
    "**При использовании ИИ в этой задаче необходимо прислать файл `task_4_ai_promt.txt` с копией вашего диалога с ИИ-инструментом**\n",
    "\n",
    "Представьте ситуацию, вы занимаетесь своей научной работой, и вам попалась одна интересная статья. Прежде чем глубоко погружаться в решение авторов вам хотелось бы понять, какую задачу решают авторы, насколько успешно, какие у них данные, какие навыки нужны для понимания. Например, было бы очень не оптимально последовательно глубоко разбирать все статьи, на это нужно потратить очень много времени. Предварительный анализ позволяет понять, какие решения в статьях существуют, выделить для себя наиболее интересные. Благодаря изобретению ИИ вы можете ускорить анализ статьей, быстрее разбираться в научных статьях, которые вам действительно интересны.\n",
    "\n",
    "**Выполните следующие действия**\n",
    "\n",
    "* Выберите одну научную статью из списка ниже.\n",
    "\n",
    "* Опишите **постановку задачи:** 1). на простом языке, чтобы ее могли понять люди без технического образования, 2). на математическом языке. Возможно, некоторые моменты окажутся сложными, тем не менее, попробуйте выделить ключевые элементы, используя ИИ.\n",
    "\n",
    "* Разберите **структуру входных данных**, которые использует решение авторов. Опишите их тип, например, таблица признаков, изображения с метками, текстовые данные с категориями, а также формат представления. Например, случае метода KNN это матрица признаков размером $n \\times d$ и вектор меток размером $n$.\n",
    "\n",
    "* Определите **ограничения на данные**. Уточните, есть ли требования к их балансу, наличию пропущенных значений, допустимым диапазонам чисел и другим характеристикам.\n",
    "\n",
    "* Выясните, **решает ли предложенная модель поставленную задачу** по мнению авторов. Обратите внимание на используемые метрики и проанализируйте, насколько они подтверждают успешность решения. Погружаться в работу метрик не требуется, достаточно лишь кратко изложить основные результаты.\n",
    "\n",
    "* Опишите, **какими знаниями необходимо обладать** для понимания работы модели. Это могут быть основы математики, такие как линейная алгебра и теория вероятностей, а также навыки программирования, например, владение Python и библиотеками машинного обучения.\n",
    "\n",
    "*Примечание.*\n",
    "* Ожидаемый объем работы: 200-300 слов. \n",
    "* Расчетное время выполнения: 1 час."
   ]
  },
  {
   "cell_type": "markdown",
   "metadata": {
    "id": "XqJQHx46UnmP"
   },
   "source": [
    "#### **Трансформеры и языковые модели**  \n",
    "1. **Attention is All You Need**  \n",
    "   *Vaswani et al., NeurIPS 2017*  \n",
    "   [arXiv:1706.03762](https://arxiv.org/abs/1706.03762)  \n",
    "\n",
    "2. **BERT: Pre-training of Deep Bidirectional Transformers for Language Understanding**  \n",
    "   *Devlin et al., NAACL 2019*  \n",
    "   [arXiv:1810.04805](https://arxiv.org/abs/1810.04805)  \n",
    "\n",
    "3. **Language Models are Few-Shot Learners**  \n",
    "   *Brown et al., NeurIPS 2020*  \n",
    "   [arXiv:2005.14165](https://arxiv.org/abs/2005.14165)  \n",
    "\n",
    "4. **Exploring the Limits of Transfer Learning with a Unified Text-to-Text Transformer**  \n",
    "   *Raffel et al., JMLR 2020*  \n",
    "   [arXiv:1910.10683](https://arxiv.org/abs/1910.10683)  \n",
    "\n",
    "5. **Scaling Laws for Neural Language Models**  \n",
    "   *Kaplan et al., NeurIPS 2020*  \n",
    "   [arXiv:2001.08361](https://arxiv.org/abs/2001.08361)  \n",
    "\n",
    "6. **Llama 2: Open Foundation and Fine-Tuned Chat Models**  \n",
    "   *Meta AI, 2023*  \n",
    "   [arXiv:2307.09288](https://arxiv.org/abs/2307.09288)  \n",
    "\n",
    "7. **GPT-4 Technical Report**  \n",
    "   *OpenAI, 2023*  \n",
    "   [arXiv:2303.08774](https://arxiv.org/abs/2303.08774)  \n",
    "\n",
    "8. **Gemini: A Family of Highly Capable Multimodal Models**  \n",
    "   *Google DeepMind, 2023*  \n",
    "   [arXiv:2312.11805](https://arxiv.org/abs/2312.11805)  \n",
    "\n",
    "\n",
    "#### **Компьютерное зрение и визуальные модели**  \n",
    "9. **An Image is Worth 16x16 Words: Transformers for Image Recognition at Scale**  \n",
    "   *Dosovitskiy et al., ICLR 2021*  \n",
    "   [arXiv:2010.11929](https://arxiv.org/abs/2010.11929)  \n",
    "\n",
    "10. **Learning Transferable Visual Models From Natural Language Supervision**  \n",
    "    *Radford et al., ICML 2021*  \n",
    "    [arXiv:2103.00020](https://arxiv.org/abs/2103.00020)  \n",
    "\n",
    "11. **Segment Anything**  \n",
    "    *Kirillov et al., Meta AI, 2023*  \n",
    "    [arXiv:2304.02643](https://arxiv.org/abs/2304.02643)  \n",
    "\n",
    "12. **Scaling Vision Transformers to 22 Billion Parameters**  \n",
    "    *Dehghani et al., Google DeepMind, 2023*  \n",
    "    [arXiv:2302.05442](https://arxiv.org/abs/2302.05442)  \n",
    "\n",
    "#### **Self-Supervised and Contrastive Learning**  \n",
    "13. **A Simple Framework for Contrastive Learning of Visual Representations**  \n",
    "    *Chen et al., CVPR 2020*  \n",
    "    [arXiv:2002.05709](https://arxiv.org/abs/2002.05709)  \n",
    "\n",
    "14. **Self-Supervised Learning of Pretext-Invariant Representations**  \n",
    "    *Misra and Maaten, CVPR 2020*  \n",
    "    [arXiv:1912.01991](https://arxiv.org/abs/1912.01991)  \n",
    "\n",
    "15. **Big Self-Supervised Models are Strong Semi-Supervised Learners**  \n",
    "    *Chen et al., NeurIPS 2020*  \n",
    "    [arXiv:2006.10029](https://arxiv.org/abs/2006.10029)  \n",
    "\n",
    "16. **Unsupervised Learning of Visual Features by Contrasting Cluster Assignments**  \n",
    "    *Caron et al., NeurIPS 2020*  \n",
    "    [arXiv:2006.09882](https://arxiv.org/abs/2006.09882)  \n",
    "    \n",
    "#### **Обучение с подкреплением**  \n",
    "17. **Reinforcement Learning with Augmented Data**  \n",
    "   *Laskin et al., NeurIPS 2020*  \n",
    "   [arXiv:2004.14990](https://arxiv.org/abs/2004.14990)  \n",
    "\n",
    "18. **Neural Architecture Search with Reinforcement Learning**  \n",
    "   *Zoph and Le, ICLR 2017*  \n",
    "   [arXiv:1611.01578](https://arxiv.org/abs/1611.01578)  \n",
    "\n",
    "\n",
    "#### **Архитектуры нейросетей и их масштабирование**  \n",
    "19. **EfficientNet: Rethinking Model Scaling for Convolutional Neural Networks**  \n",
    "   *Tan and Le, ICML 2019*  \n",
    "   [arXiv:1905.11946](https://arxiv.org/abs/1905.11946)  \n",
    "\n",
    "20. **Emergent Abilities of Large Language Models**  \n",
    "   *Wei et al., 2023*  \n",
    "   [arXiv:2206.07682](https://arxiv.org/abs/2206.07682)  \n",
    "\n",
    "21. **Scaling Data-Constrained Language Models**  \n",
    "   *Muennighoff et al., 2023*  \n",
    "   [arXiv:2305.16264](https://arxiv.org/abs/2305.16264)  \n",
    "\n",
    "\n",
    "#### **Математика, байесовские методы и причинно-следственный анализ**  \n",
    "22. **Deep Learning for Symbolic Mathematics**  \n",
    "    *Lample and Charton, ICLR 2020*  \n",
    "    [arXiv:1912.01412](https://arxiv.org/abs/1912.01412)  \n",
    "\n",
    "23. **Causal Inference with a Functional Outcome**  \n",
    "    *Ecker et al., 2023*  \n",
    "    [arXiv:2304.07113](https://arxiv.org/abs/2304.07113)  \n",
    "\n",
    "24. **General Bayesian Inference for Causal Effects Using Covariate Balancing Procedure**  \n",
    "    *Orihara et al., 2024*  \n",
    "    [arXiv:2404.09414](https://arxiv.org/abs/2404.09414)  \n",
    "\n",
    "25. **A Deep-Learning Based Bayesian Approach to Seismic Imaging and Uncertainty Quantification**  \n",
    "    *Siahkoohi et al., 2020*  \n",
    "    [arXiv:2001.04567](https://arxiv.org/abs/2001.04567)  \n",
    "\n",
    "26. **Robust Inference for High-Dimensional Linear Models**  \n",
    "    *Wang et al., 2021*  \n",
    "    [arXiv:2106.07717](https://arxiv.org/abs/2106.07717)  \n"
   ]
  },
  {
   "cell_type": "markdown",
   "metadata": {},
   "source": [
    "**Выбранная статья:** ..."
   ]
  },
  {
   "cell_type": "markdown",
   "metadata": {},
   "source": [
    "**Анализ статьи:**"
   ]
  },
  {
   "cell_type": "markdown",
   "metadata": {
    "ai_eval_tool": {
     "snippet_hash": "50003c7e0087be3d9377b547465ce334",
     "snippet_label": "end"
    }
   },
   "source": [
    "..."
   ]
  }
 ],
 "metadata": {
  "colab": {
   "provenance": []
  },
  "hide_input": false,
  "kernelspec": {
   "display_name": "Python 3 (ipykernel)",
   "language": "python",
   "name": "python3"
  },
  "language_info": {
   "codemirror_mode": {
    "name": "ipython",
    "version": 3
   },
   "file_extension": ".py",
   "mimetype": "text/x-python",
   "name": "python",
   "nbconvert_exporter": "python",
   "pygments_lexer": "ipython3",
   "version": "3.12.7"
  }
 },
 "nbformat": 4,
 "nbformat_minor": 4
}
